{
 "cells": [
  {
   "cell_type": "code",
   "execution_count": 1,
   "id": "74453f53-9349-4f1c-b4b6-ebf2ad7cde19",
   "metadata": {},
   "outputs": [
    {
     "name": "stdout",
     "output_type": "stream",
     "text": [
      "(64817,) (7202,)\n",
      "使用tf-idf提取特征值后使用贝叶斯分类器的准确率\n",
      "训练集：0.7681781014240091\n",
      "测试集：0.7349347403499028\n",
      "使用贝叶斯分类器的程序运行时间为： 0.0336759090423584\n"
     ]
    }
   ],
   "source": [
    "#1.首先将包导入\n",
    "import pandas as pd\n",
    "from sklearn.feature_extraction.text import TfidfVectorizer\n",
    "from sklearn import model_selection\n",
    "\n",
    "#2.读取数据\n",
    "data = pd.read_csv('评论汇总-分词后.csv',index_col=0)\n",
    "\n",
    "#3.划分数据集\n",
    "train_x, test_x, train_y, test_y = model_selection.train_test_split(data.分词.values.astype('U'),data.分数.values,test_size=0.1,random_state=1)\n",
    "#划分完毕，查看数据形状\n",
    "print(train_x.shape,test_x.shape)\n",
    "\n",
    "#4.使用TfidfVectorizer()对数据进行特征提取，放到模型进行训练\n",
    "#银镜TF-IDF的包\n",
    "TF_Vec = TfidfVectorizer(max_df=0.8,\n",
    "                         min_df=3\n",
    "                         )\n",
    "#拟合数据，将数据标准化，一般使用在训练集中\n",
    "train_x_tfvec = TF_Vec.fit_transform(train_x)\n",
    "#通过中心化和缩放实现标准化，一般使用在测试集中\n",
    "test_x_tfvec = TF_Vec.transform(test_x)\n",
    "\n",
    "'''\n",
    "5.开始训练模型\n",
    "Decison Tree Classifier 决策树\n",
    "'''\n",
    "from sklearn.naive_bayes import MultinomialNB\n",
    "from sklearn.metrics import accuracy_score\n",
    "import time\n",
    "start_time = time.time()\n",
    "#创建模型\n",
    "Bys = MultinomialNB()\n",
    "#拟合数据\n",
    "Bys.fit(train_x_tfvec,train_y)\n",
    "#在训练时查看训练集的准确率\n",
    "pre_train_y = Bys.predict(train_x_tfvec)\n",
    "#在训练集上的准确率\n",
    "train_accuracy = accuracy_score(pre_train_y,train_y)\n",
    "#训练结束 查看预测 输入测试集查看预测\n",
    "pre_test_y = Bys.predict(test_x_tfvec)\n",
    "#查看在测试集上的准确率\n",
    "test_accuracy = accuracy_score(pre_test_y, test_y)\n",
    "print('使用tf-idf提取特征值后使用贝叶斯分类器的准确率\\n训练集：{0}\\n测试集：{1}'.format(train_accuracy,test_accuracy))\n",
    "end_time = time.time()\n",
    "print('使用贝叶斯分类器的程序运行时间为：',end_time-start_time)"
   ]
  },
  {
   "cell_type": "code",
   "execution_count": null,
   "id": "4b543152-d004-4f45-8fdc-82b74b459ac5",
   "metadata": {},
   "outputs": [],
   "source": []
  }
 ],
 "metadata": {
  "kernelspec": {
   "display_name": "Python 3",
   "language": "python",
   "name": "python3"
  },
  "language_info": {
   "codemirror_mode": {
    "name": "ipython",
    "version": 3
   },
   "file_extension": ".py",
   "mimetype": "text/x-python",
   "name": "python",
   "nbconvert_exporter": "python",
   "pygments_lexer": "ipython3",
   "version": "3.8.8"
  }
 },
 "nbformat": 4,
 "nbformat_minor": 5
}
